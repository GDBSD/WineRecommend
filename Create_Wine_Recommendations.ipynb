{
 "cells": [
  {
   "cell_type": "code",
   "execution_count": 2,
   "metadata": {},
   "outputs": [],
   "source": [
    "#import dependancies\n",
    "import numpy as np\n",
    "import pandas as pd\n",
    "import re\n",
    "import tensorflow as tf\n",
    "import tensorflow_hub as tfhub\n",
    "import sqlite3\n",
    "from sqlite3 import Error\n",
    "import os\n",
    "\n",
    "#force output to display the full description\n",
    "pd.set_option('display.max_colwidth', -1)"
   ]
  },
  {
   "cell_type": "code",
   "execution_count": 3,
   "metadata": {},
   "outputs": [],
   "source": [
    "#connect to the database\n",
    "conn = sqlite3.connect('db\\wine_data.sqlite')\n",
    "c = conn.cursor()"
   ]
  },
  {
   "cell_type": "code",
   "execution_count": 4,
   "metadata": {},
   "outputs": [],
   "source": [
    "#create a dataframe by querying the database\n",
    "wine_df = pd.read_sql('Select * from wine_data', conn)"
   ]
  },
  {
   "cell_type": "code",
   "execution_count": 14,
   "metadata": {},
   "outputs": [
    {
     "data": {
      "text/html": [
       "<div>\n",
       "<style scoped>\n",
       "    .dataframe tbody tr th:only-of-type {\n",
       "        vertical-align: middle;\n",
       "    }\n",
       "\n",
       "    .dataframe tbody tr th {\n",
       "        vertical-align: top;\n",
       "    }\n",
       "\n",
       "    .dataframe thead th {\n",
       "        text-align: right;\n",
       "    }\n",
       "</style>\n",
       "<table border=\"1\" class=\"dataframe\">\n",
       "  <thead>\n",
       "    <tr style=\"text-align: right;\">\n",
       "      <th></th>\n",
       "      <th>level_0</th>\n",
       "      <th>index</th>\n",
       "      <th>country</th>\n",
       "      <th>description</th>\n",
       "      <th>rating</th>\n",
       "      <th>price</th>\n",
       "      <th>province</th>\n",
       "      <th>title</th>\n",
       "      <th>variety</th>\n",
       "      <th>winery</th>\n",
       "      <th>color</th>\n",
       "      <th>countryID</th>\n",
       "      <th>varietyID</th>\n",
       "      <th>colorID</th>\n",
       "      <th>provinceID</th>\n",
       "      <th>wineryID</th>\n",
       "    </tr>\n",
       "  </thead>\n",
       "  <tbody>\n",
       "    <tr>\n",
       "      <th>0</th>\n",
       "      <td>0</td>\n",
       "      <td>0</td>\n",
       "      <td>Portugal</td>\n",
       "      <td>This is ripe and fruity, a wine that is smooth while still structured. Firm tannins are filled out with juicy red berry fruits and freshened with acidity. It's  already drinkable, although it will certainly be better from 2016.</td>\n",
       "      <td>87</td>\n",
       "      <td>15.0</td>\n",
       "      <td>Douro</td>\n",
       "      <td>Quinta dos Avidagos 2011 Avidagos Red (Douro)</td>\n",
       "      <td>Portuguese Red</td>\n",
       "      <td>Quinta dos Avidagos</td>\n",
       "      <td>red</td>\n",
       "      <td>0</td>\n",
       "      <td>0</td>\n",
       "      <td>0</td>\n",
       "      <td>0</td>\n",
       "      <td>0</td>\n",
       "    </tr>\n",
       "  </tbody>\n",
       "</table>\n",
       "</div>"
      ],
      "text/plain": [
       "   level_0  index   country  \\\n",
       "0  0        0      Portugal   \n",
       "\n",
       "                                                                                                                                                                                                                           description  \\\n",
       "0  This is ripe and fruity, a wine that is smooth while still structured. Firm tannins are filled out with juicy red berry fruits and freshened with acidity. It's  already drinkable, although it will certainly be better from 2016.   \n",
       "\n",
       "   rating  price province                                          title  \\\n",
       "0  87      15.0   Douro    Quinta dos Avidagos 2011 Avidagos Red (Douro)   \n",
       "\n",
       "          variety               winery color  countryID  varietyID  colorID  \\\n",
       "0  Portuguese Red  Quinta dos Avidagos  red   0          0          0         \n",
       "\n",
       "   provinceID  wineryID  \n",
       "0  0           0         "
      ]
     },
     "execution_count": 14,
     "metadata": {},
     "output_type": "execute_result"
    }
   ],
   "source": [
    "#check the dataframe\n",
    "wine_df.head(1)"
   ]
  },
  {
   "cell_type": "code",
   "execution_count": 4,
   "metadata": {},
   "outputs": [
    {
     "data": {
      "text/plain": [
       "(100228, 16)"
      ]
     },
     "execution_count": 4,
     "metadata": {},
     "output_type": "execute_result"
    }
   ],
   "source": [
    "#check the shape\n",
    "wine_df.shape"
   ]
  },
  {
   "cell_type": "code",
   "execution_count": 7,
   "metadata": {},
   "outputs": [],
   "source": [
    "#create the directory in which to cache the tenserflow universal sentence encoder\n",
    "os.environ[\"TFHUB_CACHE_DIR\"] = 'C:/Users/bendgame/Downloads'"
   ]
  },
  {
   "cell_type": "code",
   "execution_count": 9,
   "metadata": {},
   "outputs": [],
   "source": [
    "#use if the file cannot be downloaded to the local machine. replace the local path with the web path below.\n",
    "#used to download the Universal sentence encoder onto the local machine\n",
    "#embed = tfhub.Module(\"https://tfhub.dev/google/universal-sentence-encoder/2\")"
   ]
  },
  {
   "cell_type": "code",
   "execution_count": null,
   "metadata": {},
   "outputs": [],
   "source": [
    "#embed = tfhub.Module(\"C:/Users/Administrator/Downloads/1fb57c3ffe1a38479233ee9853ddd7a8ac8a8c47\")"
   ]
  },
  {
   "cell_type": "code",
   "execution_count": 9,
   "metadata": {},
   "outputs": [
    {
     "name": "stdout",
     "output_type": "stream",
     "text": [
      "INFO:tensorflow:Saver not created because there are no variables in the graph to restore\n"
     ]
    },
    {
     "name": "stderr",
     "output_type": "stream",
     "text": [
      "I0803 22:15:37.622714 14160 saver.py:1483] Saver not created because there are no variables in the graph to restore\n"
     ]
    }
   ],
   "source": [
    "#create the tenserflow graph using placeholder to reduce overhead and time it takes to cache the wine descriptions.\n",
    "#huge performance improvements doing it this way.\n",
    "g=tf.Graph()\n",
    "with g.as_default():\n",
    "    text_input = tf.placeholder(dtype = tf.string, shape=[None])\n",
    "    embed = tfhub.Module(\"C:/Users/bendgame/Downloads/1fb57c3ffe1a38479233ee9853ddd7a8ac8a8c47\")\n",
    "    em_txt = embed(text_input)\n",
    "    init_op = tf.group([tf.global_variables_initializer(), tf.tables_initializer()])\n",
    "#g.finalize()\n",
    "\n",
    "session = tf.Session(graph = g)\n",
    "session.run(init_op)\n"
   ]
  },
  {
   "cell_type": "code",
   "execution_count": 10,
   "metadata": {},
   "outputs": [],
   "source": [
    "#embed the wine descriptions by passing the data through the encoder\n",
    "result = session.run(em_txt, feed_dict={text_input:list(wine_df.description)})\n"
   ]
  },
  {
   "cell_type": "code",
   "execution_count": 16,
   "metadata": {},
   "outputs": [],
   "source": [
    "#create a function \n",
    "def recommend_engine(query, color, embedding_table = result):\n",
    "    '''\n",
    "    takes user query, wine color, and embedded descriptions. Encodes the user query \n",
    "    and uses the dot product (calculated using numpy) to calculate the similarity \n",
    "    between the description and user query.\n",
    "    '''\n",
    "    \n",
    "    # Embed user query\n",
    "    with tf.Session(graph = g) as session:\n",
    "        session.run([tf.global_variables_initializer(), tf.tables_initializer()])\n",
    "        embedding = session.run(embed([query]))\n",
    "\n",
    "    # Calculate similarity with all reviews\n",
    "    similarity_score = np.dot(embedding, embedding_table.T)\n",
    "    \n",
    "    #used to calculate the cosine similarty \n",
    "    #     norm_a = np.linalg.norm(embedding)\n",
    "    #     norm_b = np.linalg.norm(embedding_table.T)\n",
    "    #     similarity_score = dot/(norm_a * norm_b)\n",
    "   \n",
    "    recommendations = wine_df.copy()\n",
    "    recommendations['recommendation'] = similarity_score.T\n",
    "    recommendations = recommendations.sort_values('recommendation', ascending=False)\n",
    "    \n",
    "    #filter through the dataframe to find the corresponding wine color records.\n",
    "    if (color == 'red'):\n",
    "        recommendations = recommendations.loc[(recommendations.color =='red')] \n",
    "        recommendations = recommendations[['variety', 'title', 'price', 'description', 'recommendation'\n",
    "                                       , 'rating','color']]\n",
    "    elif(color == \"white\"):\n",
    "        recommendations = recommendations.loc[(recommendations.color =='white')] \n",
    "        recommendations = recommendations[['variety', 'title', 'price', 'description', 'recommendation'\n",
    "                                       , 'rating','color']]\n",
    "    elif(color == \"other\"):\n",
    "        recommendations = recommendations.loc[(recommendations.color =='other')] \n",
    "        recommendations = recommendations[['variety', 'title', 'price', 'description', 'recommendation'\n",
    "                                       , 'rating','color']]\n",
    "    else:\n",
    "        recommendations = recommendations[['variety', 'title', 'price', 'description', 'recommendation'\n",
    "                                       , 'rating','color']]\n",
    "    #returns dataframe\n",
    "    return recommendations\n"
   ]
  },
  {
   "cell_type": "code",
   "execution_count": 18,
   "metadata": {},
   "outputs": [
    {
     "name": "stdout",
     "output_type": "stream",
     "text": [
      "INFO:tensorflow:Saver not created because there are no variables in the graph to restore\n"
     ]
    },
    {
     "name": "stderr",
     "output_type": "stream",
     "text": [
      "I0803 22:45:12.076908 14160 saver.py:1483] Saver not created because there are no variables in the graph to restore\n"
     ]
    },
    {
     "name": "stdout",
     "output_type": "stream",
     "text": [
      "fruity, rich, easy to drink, sweet\n"
     ]
    },
    {
     "data": {
      "text/html": [
       "<div>\n",
       "<style scoped>\n",
       "    .dataframe tbody tr th:only-of-type {\n",
       "        vertical-align: middle;\n",
       "    }\n",
       "\n",
       "    .dataframe tbody tr th {\n",
       "        vertical-align: top;\n",
       "    }\n",
       "\n",
       "    .dataframe thead th {\n",
       "        text-align: right;\n",
       "    }\n",
       "</style>\n",
       "<table border=\"1\" class=\"dataframe\">\n",
       "  <thead>\n",
       "    <tr style=\"text-align: right;\">\n",
       "      <th></th>\n",
       "      <th>24956</th>\n",
       "      <th>28115</th>\n",
       "      <th>18222</th>\n",
       "    </tr>\n",
       "  </thead>\n",
       "  <tbody>\n",
       "    <tr>\n",
       "      <th>variety</th>\n",
       "      <td>Syrah</td>\n",
       "      <td>Cabernet Sauvignon</td>\n",
       "      <td>Cabernet Sauvignon</td>\n",
       "    </tr>\n",
       "    <tr>\n",
       "      <th>title</th>\n",
       "      <td>Dierberg 2008 Syrah (Santa Ynez Valley)</td>\n",
       "      <td>Middle Sister NV Mischief Maker Cabernet Sauvignon (California)</td>\n",
       "      <td>Kirkland Signature 2009 Cabernet Sauvignon (Alexander Valley)</td>\n",
       "    </tr>\n",
       "    <tr>\n",
       "      <th>price</th>\n",
       "      <td>34</td>\n",
       "      <td>12</td>\n",
       "      <td>9</td>\n",
       "    </tr>\n",
       "    <tr>\n",
       "      <th>description</th>\n",
       "      <td>A nice Syrah, rich in berries, licorice, Dr. Pepper cola and spices, with soft, luxurious tannins. It's a little uncomplicated and sweet, but easy to drink now.</td>\n",
       "      <td>With an aroma like cherry cola, and fruity, almost sweet flavors, this medium-bodied wine is easy to drink.</td>\n",
       "      <td>Fruity in blackberry and cherry flavors, this is easy to drink, with a good acid-tannin balance.</td>\n",
       "    </tr>\n",
       "    <tr>\n",
       "      <th>recommendation</th>\n",
       "      <td>0.808436</td>\n",
       "      <td>0.805091</td>\n",
       "      <td>0.782239</td>\n",
       "    </tr>\n",
       "    <tr>\n",
       "      <th>rating</th>\n",
       "      <td>86</td>\n",
       "      <td>85</td>\n",
       "      <td>84</td>\n",
       "    </tr>\n",
       "    <tr>\n",
       "      <th>color</th>\n",
       "      <td>red</td>\n",
       "      <td>red</td>\n",
       "      <td>red</td>\n",
       "    </tr>\n",
       "  </tbody>\n",
       "</table>\n",
       "</div>"
      ],
      "text/plain": [
       "                                                                                                                                                                           24956  \\\n",
       "variety         Syrah                                                                                                                                                              \n",
       "title           Dierberg 2008 Syrah (Santa Ynez Valley)                                                                                                                            \n",
       "price           34                                                                                                                                                                 \n",
       "description     A nice Syrah, rich in berries, licorice, Dr. Pepper cola and spices, with soft, luxurious tannins. It's a little uncomplicated and sweet, but easy to drink now.   \n",
       "recommendation  0.808436                                                                                                                                                           \n",
       "rating          86                                                                                                                                                                 \n",
       "color           red                                                                                                                                                                \n",
       "\n",
       "                                                                                                                      28115  \\\n",
       "variety         Cabernet Sauvignon                                                                                            \n",
       "title           Middle Sister NV Mischief Maker Cabernet Sauvignon (California)                                               \n",
       "price           12                                                                                                            \n",
       "description     With an aroma like cherry cola, and fruity, almost sweet flavors, this medium-bodied wine is easy to drink.   \n",
       "recommendation  0.805091                                                                                                      \n",
       "rating          85                                                                                                            \n",
       "color           red                                                                                                           \n",
       "\n",
       "                                                                                                           18222  \n",
       "variety         Cabernet Sauvignon                                                                                \n",
       "title           Kirkland Signature 2009 Cabernet Sauvignon (Alexander Valley)                                     \n",
       "price           9                                                                                                 \n",
       "description     Fruity in blackberry and cherry flavors, this is easy to drink, with a good acid-tannin balance.  \n",
       "recommendation  0.782239                                                                                          \n",
       "rating          84                                                                                                \n",
       "color           red                                                                                               "
      ]
     },
     "execution_count": 18,
     "metadata": {},
     "output_type": "execute_result"
    }
   ],
   "source": [
    "query = \"fruity, rich, easy to drink, sweet\"\n",
    "color = 'red'\n",
    "\n",
    "recommendation = recommend_engine(query, color)\n",
    "print(query)\n",
    "\n",
    "recommendation.head(3).T"
   ]
  },
  {
   "cell_type": "code",
   "execution_count": null,
   "metadata": {},
   "outputs": [],
   "source": []
  }
 ],
 "metadata": {
  "kernelspec": {
   "display_name": "Python 3",
   "language": "python",
   "name": "python3"
  },
  "language_info": {
   "codemirror_mode": {
    "name": "ipython",
    "version": 3
   },
   "file_extension": ".py",
   "mimetype": "text/x-python",
   "name": "python",
   "nbconvert_exporter": "python",
   "pygments_lexer": "ipython3",
   "version": "3.7.3"
  }
 },
 "nbformat": 4,
 "nbformat_minor": 2
}
