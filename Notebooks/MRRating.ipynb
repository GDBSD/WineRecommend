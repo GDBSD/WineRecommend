{
 "cells": [
  {
   "cell_type": "code",
   "execution_count": 1,
   "metadata": {},
   "outputs": [],
   "source": [
    "%matplotlib inline\n",
    "import matplotlib.pyplot as plt\n",
    "import warnings\n",
    "warnings.simplefilter('ignore')\n",
    "import sqlite3\n",
    "import numpy as np\n",
    "import pandas as pd"
   ]
  },
  {
   "cell_type": "code",
   "execution_count": 2,
   "metadata": {},
   "outputs": [],
   "source": [
    "# Create the connection\n",
    "cnx = sqlite3.connect(r'wine_data.sqlite')\n",
    "\n",
    "# create the dataframe from a query\n",
    "df = pd.read_sql_query(\"SELECT * FROM wine_data\", cnx)"
   ]
  },
  {
   "cell_type": "code",
   "execution_count": 3,
   "metadata": {},
   "outputs": [],
   "source": [
    "df = pd.read_sql('Select * from wine_data where price < 100 and price in (select price from wine_data group by price having count(price) > 10)', cnx)"
   ]
  },
  {
   "cell_type": "code",
   "execution_count": 4,
   "metadata": {},
   "outputs": [
    {
     "data": {
      "text/html": [
       "<div>\n",
       "<style scoped>\n",
       "    .dataframe tbody tr th:only-of-type {\n",
       "        vertical-align: middle;\n",
       "    }\n",
       "\n",
       "    .dataframe tbody tr th {\n",
       "        vertical-align: top;\n",
       "    }\n",
       "\n",
       "    .dataframe thead th {\n",
       "        text-align: right;\n",
       "    }\n",
       "</style>\n",
       "<table border=\"1\" class=\"dataframe\">\n",
       "  <thead>\n",
       "    <tr style=\"text-align: right;\">\n",
       "      <th></th>\n",
       "      <th>price</th>\n",
       "      <th>countryID</th>\n",
       "      <th>varietyID</th>\n",
       "      <th>colorID</th>\n",
       "    </tr>\n",
       "  </thead>\n",
       "  <tbody>\n",
       "    <tr>\n",
       "      <th>0</th>\n",
       "      <td>15.0</td>\n",
       "      <td>0</td>\n",
       "      <td>0</td>\n",
       "      <td>0</td>\n",
       "    </tr>\n",
       "  </tbody>\n",
       "</table>\n",
       "</div>"
      ],
      "text/plain": [
       "   price  countryID  varietyID  colorID\n",
       "0   15.0          0          0        0"
      ]
     },
     "execution_count": 4,
     "metadata": {},
     "output_type": "execute_result"
    }
   ],
   "source": [
    "features_df = df.copy()\n",
    "del features_df['rating']\n",
    "del features_df['index']\n",
    "del features_df['description']\n",
    "del features_df['title']\n",
    "del features_df['province']\n",
    "del features_df['winery']\n",
    "del features_df['country']\n",
    "del features_df['color']\n",
    "del features_df['variety']\n",
    "del features_df['provinceID']\n",
    "del features_df['wineryID']\n",
    "del features_df['level_0']\n",
    "features_df.head(1)"
   ]
  },
  {
   "cell_type": "code",
   "execution_count": 5,
   "metadata": {},
   "outputs": [
    {
     "data": {
      "text/html": [
       "<div>\n",
       "<style scoped>\n",
       "    .dataframe tbody tr th:only-of-type {\n",
       "        vertical-align: middle;\n",
       "    }\n",
       "\n",
       "    .dataframe tbody tr th {\n",
       "        vertical-align: top;\n",
       "    }\n",
       "\n",
       "    .dataframe thead th {\n",
       "        text-align: right;\n",
       "    }\n",
       "</style>\n",
       "<table border=\"1\" class=\"dataframe\">\n",
       "  <thead>\n",
       "    <tr style=\"text-align: right;\">\n",
       "      <th></th>\n",
       "      <th>level_0</th>\n",
       "      <th>index</th>\n",
       "      <th>country</th>\n",
       "      <th>description</th>\n",
       "      <th>rating</th>\n",
       "      <th>price</th>\n",
       "      <th>province</th>\n",
       "      <th>title</th>\n",
       "      <th>variety</th>\n",
       "      <th>winery</th>\n",
       "      <th>color</th>\n",
       "      <th>countryID</th>\n",
       "      <th>varietyID</th>\n",
       "      <th>colorID</th>\n",
       "      <th>provinceID</th>\n",
       "      <th>wineryID</th>\n",
       "    </tr>\n",
       "  </thead>\n",
       "  <tbody>\n",
       "    <tr>\n",
       "      <th>0</th>\n",
       "      <td>0</td>\n",
       "      <td>0</td>\n",
       "      <td>Portugal</td>\n",
       "      <td>This is ripe and fruity, a wine that is smooth...</td>\n",
       "      <td>87</td>\n",
       "      <td>15.0</td>\n",
       "      <td>Douro</td>\n",
       "      <td>Quinta dos Avidagos 2011 Avidagos Red (Douro)</td>\n",
       "      <td>Portuguese Red</td>\n",
       "      <td>Quinta dos Avidagos</td>\n",
       "      <td>red</td>\n",
       "      <td>0</td>\n",
       "      <td>0</td>\n",
       "      <td>0</td>\n",
       "      <td>0</td>\n",
       "      <td>0</td>\n",
       "    </tr>\n",
       "    <tr>\n",
       "      <th>1</th>\n",
       "      <td>1</td>\n",
       "      <td>1366</td>\n",
       "      <td>Portugal</td>\n",
       "      <td>This wine is light in tannins and ripe in frui...</td>\n",
       "      <td>85</td>\n",
       "      <td>11.0</td>\n",
       "      <td>Douro</td>\n",
       "      <td>Quinta dos Avidagos 2015 Lote 138 Red (Douro)</td>\n",
       "      <td>Portuguese Red</td>\n",
       "      <td>Quinta dos Avidagos</td>\n",
       "      <td>red</td>\n",
       "      <td>0</td>\n",
       "      <td>0</td>\n",
       "      <td>0</td>\n",
       "      <td>0</td>\n",
       "      <td>0</td>\n",
       "    </tr>\n",
       "    <tr>\n",
       "      <th>2</th>\n",
       "      <td>2</td>\n",
       "      <td>4018</td>\n",
       "      <td>Portugal</td>\n",
       "      <td>Towards the western end of the Douro vineyards...</td>\n",
       "      <td>87</td>\n",
       "      <td>15.0</td>\n",
       "      <td>Douro</td>\n",
       "      <td>Quinta dos Avidagos 2014 Avidagos Red (Douro)</td>\n",
       "      <td>Portuguese Red</td>\n",
       "      <td>Quinta dos Avidagos</td>\n",
       "      <td>red</td>\n",
       "      <td>0</td>\n",
       "      <td>0</td>\n",
       "      <td>0</td>\n",
       "      <td>0</td>\n",
       "      <td>0</td>\n",
       "    </tr>\n",
       "    <tr>\n",
       "      <th>3</th>\n",
       "      <td>3</td>\n",
       "      <td>18808</td>\n",
       "      <td>Portugal</td>\n",
       "      <td>This Avidagos vineyard in the Corgo River Vall...</td>\n",
       "      <td>93</td>\n",
       "      <td>65.0</td>\n",
       "      <td>Douro</td>\n",
       "      <td>Quinta dos Avidagos 2011 Lenuma Red (Douro)</td>\n",
       "      <td>Portuguese Red</td>\n",
       "      <td>Quinta dos Avidagos</td>\n",
       "      <td>red</td>\n",
       "      <td>0</td>\n",
       "      <td>0</td>\n",
       "      <td>0</td>\n",
       "      <td>0</td>\n",
       "      <td>0</td>\n",
       "    </tr>\n",
       "    <tr>\n",
       "      <th>4</th>\n",
       "      <td>4</td>\n",
       "      <td>56322</td>\n",
       "      <td>Portugal</td>\n",
       "      <td>This is a balanced, ripe wine. Soft tannins su...</td>\n",
       "      <td>87</td>\n",
       "      <td>29.0</td>\n",
       "      <td>Douro</td>\n",
       "      <td>Quinta dos Avidagos 2012 Premium Red (Douro)</td>\n",
       "      <td>Portuguese Red</td>\n",
       "      <td>Quinta dos Avidagos</td>\n",
       "      <td>red</td>\n",
       "      <td>0</td>\n",
       "      <td>0</td>\n",
       "      <td>0</td>\n",
       "      <td>0</td>\n",
       "      <td>0</td>\n",
       "    </tr>\n",
       "  </tbody>\n",
       "</table>\n",
       "</div>"
      ],
      "text/plain": [
       "   level_0  index   country  \\\n",
       "0        0      0  Portugal   \n",
       "1        1   1366  Portugal   \n",
       "2        2   4018  Portugal   \n",
       "3        3  18808  Portugal   \n",
       "4        4  56322  Portugal   \n",
       "\n",
       "                                         description  rating  price province  \\\n",
       "0  This is ripe and fruity, a wine that is smooth...      87   15.0    Douro   \n",
       "1  This wine is light in tannins and ripe in frui...      85   11.0    Douro   \n",
       "2  Towards the western end of the Douro vineyards...      87   15.0    Douro   \n",
       "3  This Avidagos vineyard in the Corgo River Vall...      93   65.0    Douro   \n",
       "4  This is a balanced, ripe wine. Soft tannins su...      87   29.0    Douro   \n",
       "\n",
       "                                           title         variety  \\\n",
       "0  Quinta dos Avidagos 2011 Avidagos Red (Douro)  Portuguese Red   \n",
       "1  Quinta dos Avidagos 2015 Lote 138 Red (Douro)  Portuguese Red   \n",
       "2  Quinta dos Avidagos 2014 Avidagos Red (Douro)  Portuguese Red   \n",
       "3    Quinta dos Avidagos 2011 Lenuma Red (Douro)  Portuguese Red   \n",
       "4   Quinta dos Avidagos 2012 Premium Red (Douro)  Portuguese Red   \n",
       "\n",
       "                winery color  countryID  varietyID  colorID  provinceID  \\\n",
       "0  Quinta dos Avidagos   red          0          0        0           0   \n",
       "1  Quinta dos Avidagos   red          0          0        0           0   \n",
       "2  Quinta dos Avidagos   red          0          0        0           0   \n",
       "3  Quinta dos Avidagos   red          0          0        0           0   \n",
       "4  Quinta dos Avidagos   red          0          0        0           0   \n",
       "\n",
       "   wineryID  \n",
       "0         0  \n",
       "1         0  \n",
       "2         0  \n",
       "3         0  \n",
       "4         0  "
      ]
     },
     "execution_count": 5,
     "metadata": {},
     "output_type": "execute_result"
    }
   ],
   "source": [
    "df.head()"
   ]
  },
  {
   "cell_type": "code",
   "execution_count": 6,
   "metadata": {},
   "outputs": [],
   "source": [
    "# Setting Input & Output values for Multiple Linear Regression Model for Rating\n",
    "\n",
    "X = features_df.values\n",
    "y = df['rating'].values"
   ]
  },
  {
   "cell_type": "code",
   "execution_count": 7,
   "metadata": {},
   "outputs": [],
   "source": [
    "from sklearn.model_selection import train_test_split\n",
    "\n",
    "X_train, X_test, y_train, y_test = train_test_split(X, y, random_state=42)"
   ]
  },
  {
   "cell_type": "code",
   "execution_count": 8,
   "metadata": {},
   "outputs": [],
   "source": [
    "from sklearn.linear_model import LinearRegression\n",
    "model = LinearRegression()"
   ]
  },
  {
   "cell_type": "code",
   "execution_count": 9,
   "metadata": {},
   "outputs": [
    {
     "data": {
      "text/plain": [
       "LinearRegression(copy_X=True, fit_intercept=True, n_jobs=None,\n",
       "         normalize=False)"
      ]
     },
     "execution_count": 9,
     "metadata": {},
     "output_type": "execute_result"
    }
   ],
   "source": [
    "model.fit(X_train, y_train)"
   ]
  },
  {
   "cell_type": "code",
   "execution_count": 10,
   "metadata": {},
   "outputs": [
    {
     "name": "stdout",
     "output_type": "stream",
     "text": [
      "MSE: 6.252358321414539, R2: 0.3097708654280329\n"
     ]
    }
   ],
   "source": [
    "from sklearn.metrics import mean_squared_error\n",
    "\n",
    "predictions = model.predict(X_test)\n",
    "MSE = mean_squared_error(y_test, predictions)\n",
    "r2 = model.score(X_test, y_test)\n",
    "\n",
    "print(f\"MSE: {MSE}, R2: {r2}\")"
   ]
  },
  {
   "cell_type": "code",
   "execution_count": 11,
   "metadata": {},
   "outputs": [
    {
     "data": {
      "image/png": "[encoded data removed]",
      "text/plain": [
       "<Figure size 432x288 with 1 Axes>"
      ]
     },
     "metadata": {
      "needs_background": "light"
     },
     "output_type": "display_data"
    }
   ],
   "source": [
    "# Making Residual Plot to see if Linear Regression is a good Predictor\n",
    "\n",
    "plt.scatter(model.predict(X_train), model.predict(X_train) - y_train, c=\"blue\", label=\"Training Data\")\n",
    "plt.scatter(model.predict(X_test), model.predict(X_test) - y_test, c=\"orange\", label=\"Testing Data\")\n",
    "plt.legend()\n",
    "plt.hlines(y=0, xmin=y.min(), xmax=y.max())\n",
    "plt.title(\"Residual Plot\")\n",
    "plt.show()"
   ]
  },
  {
   "cell_type": "code",
   "execution_count": 12,
   "metadata": {},
   "outputs": [
    {
     "name": "stdout",
     "output_type": "stream",
     "text": [
      "First 10 Predictions:   [87.0, 87.0, 87.0, 89.0, 87.0, 87.0, 87.0, 88.0, 91.0, 87.0]\n",
      "First 10 Actual labels: [87, 86, 85, 89, 86, 88, 83, 92, 91, 86]\n"
     ]
    }
   ],
   "source": [
    "predictions = model.predict(X_test).round()\n",
    "print(f\"First 10 Predictions:   {predictions[:10].tolist()}\")\n",
    "print(f\"First 10 Actual labels: {y_test[:10].tolist()}\")"
   ]
  },
  {
   "cell_type": "code",
   "execution_count": 13,
   "metadata": {},
   "outputs": [
    {
     "data": {
      "text/plain": [
       "['MLR_rating_model.sav']"
      ]
     },
     "execution_count": 13,
     "metadata": {},
     "output_type": "execute_result"
    }
   ],
   "source": [
    "from sklearn.externals import joblib\n",
    "joblib.dump(model, 'MLR_rating_model.sav')"
   ]
  },
  {
   "cell_type": "code",
   "execution_count": 14,
   "metadata": {},
   "outputs": [],
   "source": [
    "rating_model = joblib.load('MLR_rating_model.sav')"
   ]
  },
  {
   "cell_type": "code",
   "execution_count": 15,
   "metadata": {},
   "outputs": [
    {
     "name": "stdout",
     "output_type": "stream",
     "text": [
      "First 10 Predictions:   [87.0, 87.0, 87.0, 89.0, 87.0, 87.0, 87.0, 88.0, 91.0, 87.0]\n",
      "First 10 Actual labels: [87, 86, 85, 89, 86, 88, 83, 92, 91, 86]\n"
     ]
    }
   ],
   "source": [
    "rating_prediction = rating_model.predict(X_test).round()\n",
    "print(f\"First 10 Predictions:   {rating_prediction[:10].tolist()}\")\n",
    "print(f\"First 10 Actual labels: {y_test[:10].tolist()}\")"
   ]
  },
  {
   "cell_type": "code",
   "execution_count": 16,
   "metadata": {},
   "outputs": [],
   "source": [
    "def rating_test_model(price, country, variety, color):\n",
    "    \n",
    "    dfco = df.loc[(df.country == country)][:1]\n",
    "    dfv = df.loc[(df.variety == variety)][:1]\n",
    "    dfc = df.loc[(df.color == color)][:1]\n",
    "  \n",
    "    a = list(dfco['countryID'])\n",
    "    b = list(dfv['varietyID'])\n",
    "    c = list(dfv['colorID'])   \n",
    "\n",
    "    dft = pd.DataFrame({'price':price,\n",
    "                        \"countryID\":a,\n",
    "                        \"varietyID\":b,\n",
    "                        \"colorID\":c,})\n",
    "    \n",
    "    return rating_model.predict(dft).round()"
   ]
  },
  {
   "cell_type": "code",
   "execution_count": 19,
   "metadata": {},
   "outputs": [
    {
     "data": {
      "text/plain": [
       "array([91.])"
      ]
     },
     "execution_count": 19,
     "metadata": {},
     "output_type": "execute_result"
    }
   ],
   "source": [
    "rating_test_model(65, 'Portugal','Portuguese Red','red')"
   ]
  },
  {
   "cell_type": "code",
   "execution_count": 23,
   "metadata": {},
   "outputs": [
    {
     "name": "stdout",
     "output_type": "stream",
     "text": [
      "Actual Rating: [93]\n"
     ]
    }
   ],
   "source": [
    "rating = list(df['rating'][3:4])\n",
    "print(f\"Actual Rating: {rating}\")"
   ]
  },
  {
   "cell_type": "code",
   "execution_count": null,
   "metadata": {},
   "outputs": [],
   "source": []
  }
 ],
 "metadata": {
  "kernelspec": {
   "display_name": "Python 3",
   "language": "python",
   "name": "python3"
  },
  "language_info": {
   "codemirror_mode": {
    "name": "ipython",
    "version": 3
   },
   "file_extension": ".py",
   "mimetype": "text/x-python",
   "name": "python",
   "nbconvert_exporter": "python",
   "pygments_lexer": "ipython3",
   "version": "3.6.7"
  }
 },
 "nbformat": 4,
 "nbformat_minor": 2
}
