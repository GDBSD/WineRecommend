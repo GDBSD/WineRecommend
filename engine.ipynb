{
 "cells": [
  {
   "cell_type": "code",
   "execution_count": 1,
   "metadata": {},
   "outputs": [],
   "source": [
    "import numpy as np\n",
    "import pandas as pd\n",
    "import re\n",
    "import tensorflow as tf\n",
    "import tensorflow_hub as tfhub\n",
    "import sqlite3\n",
    "from sqlite3 import Error\n",
    "\n",
    "pd.set_option('display.max_colwidth', -1)"
   ]
  },
  {
   "cell_type": "code",
   "execution_count": 2,
   "metadata": {},
   "outputs": [],
   "source": [
    "conn = sqlite3.connect('wine_data.sqlite')\n",
    "c = conn.cursor()"
   ]
  },
  {
   "cell_type": "code",
   "execution_count": 22,
   "metadata": {},
   "outputs": [],
   "source": [
    "wine_df = pd.read_sql('Select * from wine_data', conn)"
   ]
  },
  {
   "cell_type": "code",
   "execution_count": 24,
   "metadata": {},
   "outputs": [
    {
     "data": {
      "text/plain": [
       "(100228, 10)"
      ]
     },
     "execution_count": 24,
     "metadata": {},
     "output_type": "execute_result"
    }
   ],
   "source": [
    "wine_df.shape"
   ]
  },
  {
   "cell_type": "code",
   "execution_count": 5,
   "metadata": {},
   "outputs": [],
   "source": [
    "embed = tfhub.Module(\"C:/Users/Administrator/Downloads/1fb57c3ffe1a38479233ee9853ddd7a8ac8a8c47\")"
   ]
  },
  {
   "cell_type": "code",
   "execution_count": 9,
   "metadata": {},
   "outputs": [
    {
     "name": "stderr",
     "output_type": "stream",
     "text": [
      "The syntax of the command is incorrect.\n"
     ]
    }
   ],
   "source": [
    "#download the model to local so it can be used again and again\n",
    "#!mkdir ../wine_model/module_useT\n",
    "# Download the module, and uncompress it to the destination folder. \n",
    "#!curl -L \"https://tfhub.dev/google/universal-sentence-encoder-large/3?tf-hub-format=compressed\" | tar -zxvC ../wine_model/module_useT"
   ]
  },
  {
   "cell_type": "code",
   "execution_count": 6,
   "metadata": {},
   "outputs": [],
   "source": [
    "    \n",
    "wd = list(wine_df.description)\n",
    "output = embed(wd)\n"
   ]
  },
  {
   "cell_type": "code",
   "execution_count": 7,
   "metadata": {},
   "outputs": [
    {
     "name": "stdout",
     "output_type": "stream",
     "text": [
      "(10, 512)\n"
     ]
    }
   ],
   "source": [
    "#embed = tfhub.Module(\"C:/Users/Administrator/Downloads/1fb57c3ffe1a38479233ee9853ddd7a8ac8a8c47\")\n",
    "\n",
    "with tf.Session() as session:\n",
    "    session.run([tf.global_variables_initializer(), tf.tables_initializer()])\n",
    "    wine_embeddings = session.run(output)\n",
    "    print(wine_embeddings.shape)"
   ]
  },
  {
   "cell_type": "code",
   "execution_count": 18,
   "metadata": {},
   "outputs": [],
   "source": [
    "    \n",
    "g=tf.Graph()\n",
    "with g.as_default():\n",
    "    text_input = tf.placeholder(dtype = tf.string, shape=[None])\n",
    "    embed = tfhub.Module(\"C:/Users/Administrator/Downloads/1fb57c3ffe1a38479233ee9853ddd7a8ac8a8c47\")\n",
    "    em_txt = embed(text_input)\n",
    "    init_op = tf.group([tf.global_variables_initializer(), tf.tables_initializer()])\n",
    "#g.finalize()\n",
    "\n",
    "session = tf.Session(graph = g)\n",
    "session.run(init_op)\n"
   ]
  },
  {
   "cell_type": "code",
   "execution_count": 25,
   "metadata": {},
   "outputs": [],
   "source": [
    "result = session.run(em_txt, feed_dict={text_input:list(wine_df.description)})\n"
   ]
  },
  {
   "cell_type": "code",
   "execution_count": 26,
   "metadata": {},
   "outputs": [],
   "source": [
    "def recommend_engine(query, embedding_table = result):\n",
    "    # Embed user query\n",
    "    with tf.Session(graph = g) as session:\n",
    "        session.run([tf.global_variables_initializer(), tf.tables_initializer()])\n",
    "        embedding = session.run(embed([query]))\n",
    "\n",
    "    # Calculate similarity with all reviews\n",
    "    similarity_score = np.dot(embedding, embedding_table.T)\n",
    "    \n",
    "    # Recommend\n",
    "    recommendations = wine_df.copy()\n",
    "    recommendations['recommendation'] = similarity_score.T\n",
    "    recommendations = recommendations.sort_values('recommendation', ascending=False)\n",
    "    recommendations = recommendations[['variety', 'title', 'price', 'description', 'recommendation', 'rating']]\n",
    "\n",
    "    return recommendations"
   ]
  },
  {
   "cell_type": "code",
   "execution_count": 27,
   "metadata": {},
   "outputs": [
    {
     "name": "stdout",
     "output_type": "stream",
     "text": [
      "fruity, rich, easy to drink, sweet\n"
     ]
    },
    {
     "data": {
      "text/html": [
       "<div>\n",
       "<style scoped>\n",
       "    .dataframe tbody tr th:only-of-type {\n",
       "        vertical-align: middle;\n",
       "    }\n",
       "\n",
       "    .dataframe tbody tr th {\n",
       "        vertical-align: top;\n",
       "    }\n",
       "\n",
       "    .dataframe thead th {\n",
       "        text-align: right;\n",
       "    }\n",
       "</style>\n",
       "<table border=\"1\" class=\"dataframe\">\n",
       "  <thead>\n",
       "    <tr style=\"text-align: right;\">\n",
       "      <th></th>\n",
       "      <th>28652</th>\n",
       "      <th>85022</th>\n",
       "      <th>83116</th>\n",
       "      <th>48449</th>\n",
       "      <th>87765</th>\n",
       "    </tr>\n",
       "  </thead>\n",
       "  <tbody>\n",
       "    <tr>\n",
       "      <th>variety</th>\n",
       "      <td>Syrah</td>\n",
       "      <td>Cabernet Sauvignon</td>\n",
       "      <td>Cabernet Sauvignon</td>\n",
       "      <td>Cabernet Sauvignon</td>\n",
       "      <td>Cabernet Sauvignon</td>\n",
       "    </tr>\n",
       "    <tr>\n",
       "      <th>title</th>\n",
       "      <td>Dierberg 2008 Syrah (Santa Ynez Valley)</td>\n",
       "      <td>Middle Sister NV Mischief Maker Cabernet Sauvignon (California)</td>\n",
       "      <td>Kirkland Signature 2009 Cabernet Sauvignon (Alexander Valley)</td>\n",
       "      <td>Wattle Creek 2010 Cabernet Sauvignon (Alexander Valley)</td>\n",
       "      <td>Heron 2009 Cabernet Sauvignon (Mendocino)</td>\n",
       "    </tr>\n",
       "    <tr>\n",
       "      <th>price</th>\n",
       "      <td>34</td>\n",
       "      <td>12</td>\n",
       "      <td>9</td>\n",
       "      <td>42</td>\n",
       "      <td>13</td>\n",
       "    </tr>\n",
       "    <tr>\n",
       "      <th>description</th>\n",
       "      <td>A nice Syrah, rich in berries, licorice, Dr. Pepper cola and spices, with soft, luxurious tannins. It's a little uncomplicated and sweet, but easy to drink now.</td>\n",
       "      <td>With an aroma like cherry cola, and fruity, almost sweet flavors, this medium-bodied wine is easy to drink.</td>\n",
       "      <td>Fruity in blackberry and cherry flavors, this is easy to drink, with a good acid-tannin balance.</td>\n",
       "      <td>Lots of flashy blackberry and cassis flavors in this Cabernet. Easy to drink, but feels way too soft to earn a higher score. Drink up.</td>\n",
       "      <td>A simple Cabernet, the kind to drink at a party and not fuss. It's dry and smooth, with berry and herb flavors.</td>\n",
       "    </tr>\n",
       "    <tr>\n",
       "      <th>recommendation</th>\n",
       "      <td>0.808436</td>\n",
       "      <td>0.805091</td>\n",
       "      <td>0.782239</td>\n",
       "      <td>0.780206</td>\n",
       "      <td>0.776853</td>\n",
       "    </tr>\n",
       "    <tr>\n",
       "      <th>rating</th>\n",
       "      <td>86</td>\n",
       "      <td>85</td>\n",
       "      <td>84</td>\n",
       "      <td>84</td>\n",
       "      <td>84</td>\n",
       "    </tr>\n",
       "  </tbody>\n",
       "</table>\n",
       "</div>"
      ],
      "text/plain": [
       "                                                                                                                                                                           28652  \\\n",
       "variety         Syrah                                                                                                                                                              \n",
       "title           Dierberg 2008 Syrah (Santa Ynez Valley)                                                                                                                            \n",
       "price           34                                                                                                                                                                 \n",
       "description     A nice Syrah, rich in berries, licorice, Dr. Pepper cola and spices, with soft, luxurious tannins. It's a little uncomplicated and sweet, but easy to drink now.   \n",
       "recommendation  0.808436                                                                                                                                                           \n",
       "rating          86                                                                                                                                                                 \n",
       "\n",
       "                                                                                                                      85022  \\\n",
       "variety         Cabernet Sauvignon                                                                                            \n",
       "title           Middle Sister NV Mischief Maker Cabernet Sauvignon (California)                                               \n",
       "price           12                                                                                                            \n",
       "description     With an aroma like cherry cola, and fruity, almost sweet flavors, this medium-bodied wine is easy to drink.   \n",
       "recommendation  0.805091                                                                                                      \n",
       "rating          85                                                                                                            \n",
       "\n",
       "                                                                                                           83116  \\\n",
       "variety         Cabernet Sauvignon                                                                                 \n",
       "title           Kirkland Signature 2009 Cabernet Sauvignon (Alexander Valley)                                      \n",
       "price           9                                                                                                  \n",
       "description     Fruity in blackberry and cherry flavors, this is easy to drink, with a good acid-tannin balance.   \n",
       "recommendation  0.782239                                                                                           \n",
       "rating          84                                                                                                 \n",
       "\n",
       "                                                                                                                                                 48449  \\\n",
       "variety         Cabernet Sauvignon                                                                                                                       \n",
       "title           Wattle Creek 2010 Cabernet Sauvignon (Alexander Valley)                                                                                  \n",
       "price           42                                                                                                                                       \n",
       "description     Lots of flashy blackberry and cassis flavors in this Cabernet. Easy to drink, but feels way too soft to earn a higher score. Drink up.   \n",
       "recommendation  0.780206                                                                                                                                 \n",
       "rating          84                                                                                                                                       \n",
       "\n",
       "                                                                                                                          87765  \n",
       "variety         Cabernet Sauvignon                                                                                               \n",
       "title           Heron 2009 Cabernet Sauvignon (Mendocino)                                                                        \n",
       "price           13                                                                                                               \n",
       "description     A simple Cabernet, the kind to drink at a party and not fuss. It's dry and smooth, with berry and herb flavors.  \n",
       "recommendation  0.776853                                                                                                         \n",
       "rating          84                                                                                                               "
      ]
     },
     "execution_count": 27,
     "metadata": {},
     "output_type": "execute_result"
    }
   ],
   "source": [
    "query = \"fruity, rich, easy to drink, sweet\"\n",
    "\n",
    "recommendation = recommend_engine(query)\n",
    "print(query)\n",
    "\n",
    "recommendation.head().T"
   ]
  },
  {
   "cell_type": "code",
   "execution_count": null,
   "metadata": {},
   "outputs": [],
   "source": []
  }
 ],
 "metadata": {
  "kernelspec": {
   "display_name": "Python 3",
   "language": "python",
   "name": "python3"
  },
  "language_info": {
   "codemirror_mode": {
    "name": "ipython",
    "version": 3
   },
   "file_extension": ".py",
   "mimetype": "text/x-python",
   "name": "python",
   "nbconvert_exporter": "python",
   "pygments_lexer": "ipython3",
   "version": "3.7.3"
  }
 },
 "nbformat": 4,
 "nbformat_minor": 2
}
