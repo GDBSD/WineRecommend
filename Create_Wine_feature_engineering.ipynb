{
 "cells": [
  {
   "cell_type": "code",
   "execution_count": 65,
   "metadata": {},
   "outputs": [],
   "source": [
    "#import dependencies\n",
    "import numpy as np\n",
    "import pandas as pd\n",
    "import re\n",
    "import tensorflow as tf\n",
    "import tensorflow_hub as tfhub\n",
    "import sqlite3\n",
    "from sqlite3 import Error\n",
    "\n",
    "pd.set_option('display.max_colwidth', -1)"
   ]
  },
  {
   "cell_type": "code",
   "execution_count": null,
   "metadata": {},
   "outputs": [],
   "source": [
    "#read the csv\n",
    "wine_data = pd.read_csv(\"winemag-data-130k-v2.csv\")"
   ]
  },
  {
   "cell_type": "code",
   "execution_count": 66,
   "metadata": {},
   "outputs": [],
   "source": [
    "#create a sqlite database file and a connection\n",
    "conn = sqlite3.connect('db\\wine_data.sqlite')\n",
    "c = conn.cursor()"
   ]
  },
  {
   "cell_type": "code",
   "execution_count": null,
   "metadata": {},
   "outputs": [],
   "source": [
    "#creat a table in the database\n",
    "wine_data.to_sql('wine_data', conn, if_exists = \"replace\")\n",
    "#read the table in the database\n",
    "wine_df = pd.read_sql('Select * from wine_data', conn)"
   ]
  },
  {
   "cell_type": "code",
   "execution_count": null,
   "metadata": {},
   "outputs": [],
   "source": [
    "#Drop the duplicate descriptions\n",
    "wine_df = wine_df.drop_duplicates('description')\n",
    "\n",
    "#drop null prices\n",
    "wine_df = wine_df.dropna(subset=['price'])\n",
    "\n",
    "#filter the dataframe to include only varieties with more than 200 reviews\n",
    "wine_df = wine_df.groupby('variety').filter(lambda x: len(x) > 200)\n",
    "\n",
    "#create a column named color\n",
    "wine_df[\"color\"] = \"\"\n",
    "\n",
    "#update the database\n",
    "wine_df.to_sql('wine_data', conn, if_exists = \"replace\")"
   ]
  },
  {
   "cell_type": "code",
   "execution_count": null,
   "metadata": {},
   "outputs": [],
   "source": [
    "pd.read_sql('SELECT variety, count(variety) as vcount FROM wine_data group by variety', conn)"
   ]
  },
  {
   "cell_type": "code",
   "execution_count": null,
   "metadata": {},
   "outputs": [],
   "source": [
    "#used to update the database with the wine color. Maunally updated each wine variety.\n",
    "c.execute(\"update wine_data set color = 'red' where variety = 'Aglianico'  \")\n",
    "\n",
    "#commit the update to the database so it saves\n",
    "conn.commit()"
   ]
  },
  {
   "cell_type": "code",
   "execution_count": null,
   "metadata": {},
   "outputs": [],
   "source": [
    "#verify data saved as expected\n",
    "pd.read_sql(\"select color, count(color) from wine_data group by color\" ,conn)"
   ]
  },
  {
   "cell_type": "code",
   "execution_count": null,
   "metadata": {},
   "outputs": [],
   "source": [
    "#remove all the records without a color\n",
    "wine_df = pd.read_sql(\"select country, description,rating,price,province,title,variety,winery, color  from wine_data where color in ('red', 'white', 'other')\", conn)\n",
    "wine_df.to_sql('wine_data', conn, if_exists = \"replace\")\n",
    "wine_df.info()"
   ]
  },
  {
   "cell_type": "code",
   "execution_count": null,
   "metadata": {},
   "outputs": [],
   "source": [
    "#drop the rest of the NA values\n",
    "wine_df = wine_df.dropna()\n",
    "wine_df.info()"
   ]
  },
  {
   "cell_type": "code",
   "execution_count": null,
   "metadata": {},
   "outputs": [],
   "source": [
    "#update the database\n",
    "wine_df.to_sql('wine_data', conn, if_exists = \"replace\")"
   ]
  },
  {
   "cell_type": "code",
   "execution_count": 68,
   "metadata": {},
   "outputs": [
    {
     "data": {
      "text/html": [
       "<div>\n",
       "<style scoped>\n",
       "    .dataframe tbody tr th:only-of-type {\n",
       "        vertical-align: middle;\n",
       "    }\n",
       "\n",
       "    .dataframe tbody tr th {\n",
       "        vertical-align: top;\n",
       "    }\n",
       "\n",
       "    .dataframe thead th {\n",
       "        text-align: right;\n",
       "    }\n",
       "</style>\n",
       "<table border=\"1\" class=\"dataframe\">\n",
       "  <thead>\n",
       "    <tr style=\"text-align: right;\">\n",
       "      <th></th>\n",
       "      <th>index</th>\n",
       "      <th>country</th>\n",
       "      <th>description</th>\n",
       "      <th>rating</th>\n",
       "      <th>price</th>\n",
       "      <th>province</th>\n",
       "      <th>title</th>\n",
       "      <th>variety</th>\n",
       "      <th>winery</th>\n",
       "      <th>color</th>\n",
       "    </tr>\n",
       "  </thead>\n",
       "  <tbody>\n",
       "    <tr>\n",
       "      <th>0</th>\n",
       "      <td>0</td>\n",
       "      <td>Portugal</td>\n",
       "      <td>This is ripe and fruity, a wine that is smooth while still structured. Firm tannins are filled out with juicy red berry fruits and freshened with acidity. It's  already drinkable, although it will certainly be better from 2016.</td>\n",
       "      <td>87</td>\n",
       "      <td>15.0</td>\n",
       "      <td>Douro</td>\n",
       "      <td>Quinta dos Avidagos 2011 Avidagos Red (Douro)</td>\n",
       "      <td>Portuguese Red</td>\n",
       "      <td>Quinta dos Avidagos</td>\n",
       "      <td>red</td>\n",
       "    </tr>\n",
       "    <tr>\n",
       "      <th>1</th>\n",
       "      <td>1</td>\n",
       "      <td>US</td>\n",
       "      <td>Tart and snappy, the flavors of lime flesh and rind dominate. Some green pineapple pokes through, with crisp acidity underscoring the flavors. The wine was all stainless-steel fermented.</td>\n",
       "      <td>87</td>\n",
       "      <td>14.0</td>\n",
       "      <td>Oregon</td>\n",
       "      <td>Rainstorm 2013 Pinot Gris (Willamette Valley)</td>\n",
       "      <td>Pinot Gris</td>\n",
       "      <td>Rainstorm</td>\n",
       "      <td>white</td>\n",
       "    </tr>\n",
       "  </tbody>\n",
       "</table>\n",
       "</div>"
      ],
      "text/plain": [
       "   index   country  \\\n",
       "0  0      Portugal   \n",
       "1  1      US         \n",
       "\n",
       "                                                                                                                                                                                                                           description  \\\n",
       "0  This is ripe and fruity, a wine that is smooth while still structured. Firm tannins are filled out with juicy red berry fruits and freshened with acidity. It's  already drinkable, although it will certainly be better from 2016.   \n",
       "1  Tart and snappy, the flavors of lime flesh and rind dominate. Some green pineapple pokes through, with crisp acidity underscoring the flavors. The wine was all stainless-steel fermented.                                            \n",
       "\n",
       "   rating  price province                                          title  \\\n",
       "0  87      15.0   Douro    Quinta dos Avidagos 2011 Avidagos Red (Douro)   \n",
       "1  87      14.0   Oregon   Rainstorm 2013 Pinot Gris (Willamette Valley)   \n",
       "\n",
       "          variety               winery  color  \n",
       "0  Portuguese Red  Quinta dos Avidagos  red    \n",
       "1  Pinot Gris      Rainstorm            white  "
      ]
     },
     "execution_count": 68,
     "metadata": {},
     "output_type": "execute_result"
    }
   ],
   "source": [
    "#verify the data\n",
    "wine_df.head(2)"
   ]
  },
  {
   "cell_type": "code",
   "execution_count": 69,
   "metadata": {},
   "outputs": [
    {
     "data": {
      "text/html": [
       "<div>\n",
       "<style scoped>\n",
       "    .dataframe tbody tr th:only-of-type {\n",
       "        vertical-align: middle;\n",
       "    }\n",
       "\n",
       "    .dataframe tbody tr th {\n",
       "        vertical-align: top;\n",
       "    }\n",
       "\n",
       "    .dataframe thead th {\n",
       "        text-align: right;\n",
       "    }\n",
       "</style>\n",
       "<table border=\"1\" class=\"dataframe\">\n",
       "  <thead>\n",
       "    <tr style=\"text-align: right;\">\n",
       "      <th></th>\n",
       "      <th>countryID</th>\n",
       "      <th>country</th>\n",
       "    </tr>\n",
       "  </thead>\n",
       "  <tbody>\n",
       "    <tr>\n",
       "      <th>0</th>\n",
       "      <td>0</td>\n",
       "      <td>Portugal</td>\n",
       "    </tr>\n",
       "    <tr>\n",
       "      <th>1</th>\n",
       "      <td>1</td>\n",
       "      <td>US</td>\n",
       "    </tr>\n",
       "    <tr>\n",
       "      <th>2</th>\n",
       "      <td>2</td>\n",
       "      <td>France</td>\n",
       "    </tr>\n",
       "    <tr>\n",
       "      <th>3</th>\n",
       "      <td>3</td>\n",
       "      <td>Germany</td>\n",
       "    </tr>\n",
       "    <tr>\n",
       "      <th>4</th>\n",
       "      <td>4</td>\n",
       "      <td>Argentina</td>\n",
       "    </tr>\n",
       "  </tbody>\n",
       "</table>\n",
       "</div>"
      ],
      "text/plain": [
       "   countryID    country\n",
       "0  0          Portugal \n",
       "1  1          US       \n",
       "2  2          France   \n",
       "3  3          Germany  \n",
       "4  4          Argentina"
      ]
     },
     "execution_count": 69,
     "metadata": {},
     "output_type": "execute_result"
    }
   ],
   "source": [
    "#create the IDs to be used as numeric labels in the machine learning models\n",
    "country_df = pd.read_sql('select distinct country from wine_data', conn)\n",
    "country_df.reset_index(inplace = True)\n",
    "country_df =country_df.rename(columns = {'index':'countryID',\n",
    "                            'country':'country'})\n",
    "country_df.head()"
   ]
  },
  {
   "cell_type": "code",
   "execution_count": 70,
   "metadata": {},
   "outputs": [],
   "source": [
    "#merge the dataframes\n",
    "wine_df = wine_df.merge(country_df, how = 'inner', on ='country')"
   ]
  },
  {
   "cell_type": "code",
   "execution_count": 71,
   "metadata": {},
   "outputs": [],
   "source": [
    "#create the IDs to be used as numeric labels in the machine learning models\n",
    "variety_df = pd.read_sql('select distinct variety from wine_data', conn)\n",
    "variety_df.reset_index(inplace = True)\n",
    "variety_df =variety_df.rename(columns = {'index':'varietyID',\n",
    "                            'variety':'variety'})\n",
    "variety_df.head()\n",
    "wine_df = wine_df.merge(variety_df, how = 'inner', on ='variety')"
   ]
  },
  {
   "cell_type": "code",
   "execution_count": 72,
   "metadata": {},
   "outputs": [],
   "source": [
    "#create the IDs to be used as numeric labels in the machine learning models\n",
    "color_df = pd.read_sql('select distinct color from wine_data', conn)\n",
    "color_df.reset_index(inplace = True)\n",
    "color_df =color_df.rename(columns = {'index':'colorID',\n",
    "                            'color':'color'})\n",
    "color_df.head()\n",
    "wine_df = wine_df.merge(color_df, how = 'inner', on ='color')"
   ]
  },
  {
   "cell_type": "code",
   "execution_count": 73,
   "metadata": {},
   "outputs": [],
   "source": [
    "#create the IDs to be used as numeric labels in the machine learning models\n",
    "province_df = pd.read_sql('select distinct province from wine_data', conn)\n",
    "province_df.reset_index(inplace = True)\n",
    "province_df =province_df.rename(columns = {'index':'provinceID',\n",
    "                            'province':'province'})\n",
    "province_df.head()\n",
    "wine_df = wine_df.merge(province_df, how = 'inner', on ='province')"
   ]
  },
  {
   "cell_type": "code",
   "execution_count": 75,
   "metadata": {},
   "outputs": [],
   "source": [
    "#create the IDs to be used as numeric labels in the machine learning models\n",
    "winery_df = pd.read_sql('select distinct winery from wine_data', conn)\n",
    "winery_df.reset_index(inplace = True)\n",
    "winery_df =winery_df.rename(columns = {'index':'wineryID',\n",
    "                            'winery':'winery'})\n",
    "winery_df.head()\n",
    "wine_df = wine_df.merge(winery_df, how = 'inner', on ='winery')"
   ]
  },
  {
   "cell_type": "code",
   "execution_count": 76,
   "metadata": {},
   "outputs": [
    {
     "data": {
      "text/html": [
       "<div>\n",
       "<style scoped>\n",
       "    .dataframe tbody tr th:only-of-type {\n",
       "        vertical-align: middle;\n",
       "    }\n",
       "\n",
       "    .dataframe tbody tr th {\n",
       "        vertical-align: top;\n",
       "    }\n",
       "\n",
       "    .dataframe thead th {\n",
       "        text-align: right;\n",
       "    }\n",
       "</style>\n",
       "<table border=\"1\" class=\"dataframe\">\n",
       "  <thead>\n",
       "    <tr style=\"text-align: right;\">\n",
       "      <th></th>\n",
       "      <th>index</th>\n",
       "      <th>country</th>\n",
       "      <th>description</th>\n",
       "      <th>rating</th>\n",
       "      <th>price</th>\n",
       "      <th>province</th>\n",
       "      <th>title</th>\n",
       "      <th>variety</th>\n",
       "      <th>winery</th>\n",
       "      <th>color</th>\n",
       "      <th>countryID</th>\n",
       "      <th>varietyID</th>\n",
       "      <th>colorID</th>\n",
       "      <th>provinceID</th>\n",
       "      <th>wineryID</th>\n",
       "    </tr>\n",
       "  </thead>\n",
       "  <tbody>\n",
       "    <tr>\n",
       "      <th>100226</th>\n",
       "      <td>85115</td>\n",
       "      <td>US</td>\n",
       "      <td>Light-salmon in color, this Hawaiian sparkler surprises with ripe raspberry and white chocolate aromas. Vigorous bubbles clean up the strawberries-and-cream palate, enticing the drinker for yet another sip. Enjoy with creamy strawberry cheesecake.</td>\n",
       "      <td>87</td>\n",
       "      <td>28.0</td>\n",
       "      <td>Hawaii</td>\n",
       "      <td>Ulupalakua NV Lokelani Sparkling Rosé Sparkling (Hawaii)</td>\n",
       "      <td>Sparkling Blend</td>\n",
       "      <td>Ulupalakua</td>\n",
       "      <td>other</td>\n",
       "      <td>1</td>\n",
       "      <td>43</td>\n",
       "      <td>2</td>\n",
       "      <td>358</td>\n",
       "      <td>14227</td>\n",
       "    </tr>\n",
       "    <tr>\n",
       "      <th>100227</th>\n",
       "      <td>43274</td>\n",
       "      <td>US</td>\n",
       "      <td>A full-flavored but light-bodied sparkler that has some toasty elements over lemon-tangerine fruit. The long finish brings some attractive pink grapefruit notes. A very welcome surprise from this Rhode Island winery.</td>\n",
       "      <td>90</td>\n",
       "      <td>25.0</td>\n",
       "      <td>Rhode Island</td>\n",
       "      <td>Sakonnet 1995 Samson Brut  (Southeastern New England)</td>\n",
       "      <td>Champagne Blend</td>\n",
       "      <td>Sakonnet</td>\n",
       "      <td>other</td>\n",
       "      <td>1</td>\n",
       "      <td>21</td>\n",
       "      <td>2</td>\n",
       "      <td>322</td>\n",
       "      <td>11123</td>\n",
       "    </tr>\n",
       "  </tbody>\n",
       "</table>\n",
       "</div>"
      ],
      "text/plain": [
       "        index country  \\\n",
       "100226  85115  US       \n",
       "100227  43274  US       \n",
       "\n",
       "                                                                                                                                                                                                                                                    description  \\\n",
       "100226  Light-salmon in color, this Hawaiian sparkler surprises with ripe raspberry and white chocolate aromas. Vigorous bubbles clean up the strawberries-and-cream palate, enticing the drinker for yet another sip. Enjoy with creamy strawberry cheesecake.   \n",
       "100227  A full-flavored but light-bodied sparkler that has some toasty elements over lemon-tangerine fruit. The long finish brings some attractive pink grapefruit notes. A very welcome surprise from this Rhode Island winery.                                  \n",
       "\n",
       "        rating  price      province  \\\n",
       "100226  87      28.0   Hawaii         \n",
       "100227  90      25.0   Rhode Island   \n",
       "\n",
       "                                                           title  \\\n",
       "100226  Ulupalakua NV Lokelani Sparkling Rosé Sparkling (Hawaii)   \n",
       "100227  Sakonnet 1995 Samson Brut  (Southeastern New England)      \n",
       "\n",
       "                variety      winery  color  countryID  varietyID  colorID  \\\n",
       "100226  Sparkling Blend  Ulupalakua  other  1          43         2         \n",
       "100227  Champagne Blend  Sakonnet    other  1          21         2         \n",
       "\n",
       "        provinceID  wineryID  \n",
       "100226  358         14227     \n",
       "100227  322         11123     "
      ]
     },
     "execution_count": 76,
     "metadata": {},
     "output_type": "execute_result"
    }
   ],
   "source": [
    "#verify all IDs have been created\n",
    "wine_df.tail(2)"
   ]
  },
  {
   "cell_type": "code",
   "execution_count": 77,
   "metadata": {},
   "outputs": [],
   "source": [
    "#update the dataframe with the new columns\n",
    "wine_df.to_sql('wine_data', conn, if_exists = \"replace\")"
   ]
  },
  {
   "cell_type": "code",
   "execution_count": 78,
   "metadata": {},
   "outputs": [
    {
     "name": "stdout",
     "output_type": "stream",
     "text": [
      "<class 'pandas.core.frame.DataFrame'>\n",
      "Int64Index: 100228 entries, 0 to 100227\n",
      "Data columns (total 15 columns):\n",
      "index          100228 non-null int64\n",
      "country        100228 non-null object\n",
      "description    100228 non-null object\n",
      "rating         100228 non-null int64\n",
      "price          100228 non-null float64\n",
      "province       100228 non-null object\n",
      "title          100228 non-null object\n",
      "variety        100228 non-null object\n",
      "winery         100228 non-null object\n",
      "color          100228 non-null object\n",
      "countryID      100228 non-null int64\n",
      "varietyID      100228 non-null int64\n",
      "colorID        100228 non-null int64\n",
      "provinceID     100228 non-null int64\n",
      "wineryID       100228 non-null int64\n",
      "dtypes: float64(1), int64(7), object(7)\n",
      "memory usage: 12.2+ MB\n"
     ]
    }
   ],
   "source": [
    "#check the info\n",
    "wine_df.info()"
   ]
  },
  {
   "cell_type": "code",
   "execution_count": null,
   "metadata": {},
   "outputs": [],
   "source": []
  }
 ],
 "metadata": {
  "kernelspec": {
   "display_name": "Python 3",
   "language": "python",
   "name": "python3"
  },
  "language_info": {
   "codemirror_mode": {
    "name": "ipython",
    "version": 3
   },
   "file_extension": ".py",
   "mimetype": "text/x-python",
   "name": "python",
   "nbconvert_exporter": "python",
   "pygments_lexer": "ipython3",
   "version": "3.6.7"
  }
 },
 "nbformat": 4,
 "nbformat_minor": 2
}
